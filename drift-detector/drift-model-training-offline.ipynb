{
 "cells": [
  {
   "cell_type": "code",
   "execution_count": 1,
   "metadata": {},
   "outputs": [],
   "source": [
    "import generator"
   ]
  },
  {
   "cell_type": "code",
   "execution_count": 2,
   "metadata": {},
   "outputs": [],
   "source": [
    "import matplotlib.pyplot as plt\n",
    "import numpy as np\n",
    "import pandas as pd"
   ]
  },
  {
   "cell_type": "markdown",
   "metadata": {},
   "source": [
    "# No outliers, no drift"
   ]
  },
  {
   "cell_type": "code",
   "execution_count": 3,
   "metadata": {},
   "outputs": [],
   "source": [
    "data = [generator.generate_step(t=t, period=24, amplitude=100, error=20, mean=200) for t in range(24*7)]"
   ]
  },
  {
   "cell_type": "code",
   "execution_count": 4,
   "metadata": {},
   "outputs": [],
   "source": [
    "df = pd.DataFrame(data={\n",
    "    'x': range(24*7),\n",
    "    'ds': pd.date_range(start=\"now\", periods=24*7, freq='1h'),\n",
    "    'y': data\n",
    "})"
   ]
  },
  {
   "cell_type": "code",
   "execution_count": 5,
   "metadata": {},
   "outputs": [
    {
     "data": {
      "text/html": [
       "<div>\n",
       "<style scoped>\n",
       "    .dataframe tbody tr th:only-of-type {\n",
       "        vertical-align: middle;\n",
       "    }\n",
       "\n",
       "    .dataframe tbody tr th {\n",
       "        vertical-align: top;\n",
       "    }\n",
       "\n",
       "    .dataframe thead th {\n",
       "        text-align: right;\n",
       "    }\n",
       "</style>\n",
       "<table border=\"1\" class=\"dataframe\">\n",
       "  <thead>\n",
       "    <tr style=\"text-align: right;\">\n",
       "      <th></th>\n",
       "      <th>x</th>\n",
       "      <th>ds</th>\n",
       "      <th>y</th>\n",
       "    </tr>\n",
       "  </thead>\n",
       "  <tbody>\n",
       "    <tr>\n",
       "      <th>0</th>\n",
       "      <td>0</td>\n",
       "      <td>2022-06-23 15:33:10.591047</td>\n",
       "      <td>208.278887</td>\n",
       "    </tr>\n",
       "    <tr>\n",
       "      <th>1</th>\n",
       "      <td>1</td>\n",
       "      <td>2022-06-23 16:33:10.591047</td>\n",
       "      <td>232.661695</td>\n",
       "    </tr>\n",
       "    <tr>\n",
       "      <th>2</th>\n",
       "      <td>2</td>\n",
       "      <td>2022-06-23 17:33:10.591047</td>\n",
       "      <td>251.065984</td>\n",
       "    </tr>\n",
       "    <tr>\n",
       "      <th>3</th>\n",
       "      <td>3</td>\n",
       "      <td>2022-06-23 18:33:10.591047</td>\n",
       "      <td>277.419623</td>\n",
       "    </tr>\n",
       "    <tr>\n",
       "      <th>4</th>\n",
       "      <td>4</td>\n",
       "      <td>2022-06-23 19:33:10.591047</td>\n",
       "      <td>302.261368</td>\n",
       "    </tr>\n",
       "    <tr>\n",
       "      <th>...</th>\n",
       "      <td>...</td>\n",
       "      <td>...</td>\n",
       "      <td>...</td>\n",
       "    </tr>\n",
       "    <tr>\n",
       "      <th>163</th>\n",
       "      <td>163</td>\n",
       "      <td>2022-06-30 10:33:10.591047</td>\n",
       "      <td>121.465019</td>\n",
       "    </tr>\n",
       "    <tr>\n",
       "      <th>164</th>\n",
       "      <td>164</td>\n",
       "      <td>2022-06-30 11:33:10.591047</td>\n",
       "      <td>115.786008</td>\n",
       "    </tr>\n",
       "    <tr>\n",
       "      <th>165</th>\n",
       "      <td>165</td>\n",
       "      <td>2022-06-30 12:33:10.591047</td>\n",
       "      <td>133.344628</td>\n",
       "    </tr>\n",
       "    <tr>\n",
       "      <th>166</th>\n",
       "      <td>166</td>\n",
       "      <td>2022-06-30 13:33:10.591047</td>\n",
       "      <td>169.478247</td>\n",
       "    </tr>\n",
       "    <tr>\n",
       "      <th>167</th>\n",
       "      <td>167</td>\n",
       "      <td>2022-06-30 14:33:10.591047</td>\n",
       "      <td>182.525058</td>\n",
       "    </tr>\n",
       "  </tbody>\n",
       "</table>\n",
       "<p>168 rows × 3 columns</p>\n",
       "</div>"
      ],
      "text/plain": [
       "       x                         ds           y\n",
       "0      0 2022-06-23 15:33:10.591047  208.278887\n",
       "1      1 2022-06-23 16:33:10.591047  232.661695\n",
       "2      2 2022-06-23 17:33:10.591047  251.065984\n",
       "3      3 2022-06-23 18:33:10.591047  277.419623\n",
       "4      4 2022-06-23 19:33:10.591047  302.261368\n",
       "..   ...                        ...         ...\n",
       "163  163 2022-06-30 10:33:10.591047  121.465019\n",
       "164  164 2022-06-30 11:33:10.591047  115.786008\n",
       "165  165 2022-06-30 12:33:10.591047  133.344628\n",
       "166  166 2022-06-30 13:33:10.591047  169.478247\n",
       "167  167 2022-06-30 14:33:10.591047  182.525058\n",
       "\n",
       "[168 rows x 3 columns]"
      ]
     },
     "execution_count": 5,
     "metadata": {},
     "output_type": "execute_result"
    }
   ],
   "source": [
    "df"
   ]
  },
  {
   "cell_type": "code",
   "execution_count": 6,
   "metadata": {},
   "outputs": [
    {
     "data": {
      "image/png": "[encoded data removed]",
      "text/plain": [
       "<Figure size 432x288 with 1 Axes>"
      ]
     },
     "metadata": {
      "needs_background": "light"
     },
     "output_type": "display_data"
    }
   ],
   "source": [
    "plt.plot(df.ds, df.y, c=\"k\")\n",
    "plt.show()"
   ]
  },
  {
   "cell_type": "code",
   "execution_count": 60,
   "metadata": {},
   "outputs": [],
   "source": [
    "import matplotlib.pyplot as plt\n",
    "import numpy as np\n",
    "import os\n",
    "import pandas as pd\n",
    "import tensorflow as tf\n",
    "\n",
    "from alibi_detect.cd import MMDDrift"
   ]
  },
  {
   "cell_type": "code",
   "execution_count": 61,
   "metadata": {},
   "outputs": [
    {
     "data": {
      "text/plain": [
       "array([[208.27888693],\n",
       "       [232.66169483],\n",
       "       [251.06598374],\n",
       "       [277.41962263],\n",
       "       [302.26136761],\n",
       "       [296.72459177],\n",
       "       [301.19163478],\n",
       "       [309.57232075],\n",
       "       [300.35042792],\n",
       "       [274.72679299],\n",
       "       [252.43174039],\n",
       "       [227.48029035],\n",
       "       [208.53767135],\n",
       "       [187.86686288],\n",
       "       [151.95938299],\n",
       "       [145.28958772],\n",
       "       [129.39605968],\n",
       "       [111.04855612],\n",
       "       [106.75708203],\n",
       "       [118.23747546],\n",
       "       [128.98746698],\n",
       "       [146.22908643],\n",
       "       [158.51842986],\n",
       "       [193.28658353],\n",
       "       [209.18565831],\n",
       "       [240.91471273],\n",
       "       [266.92768593],\n",
       "       [280.30087475],\n",
       "       [303.39983345],\n",
       "       [312.16143623],\n",
       "       [314.37216277],\n",
       "       [309.77817883],\n",
       "       [290.45116279],\n",
       "       [272.29379045],\n",
       "       [262.39235486],\n",
       "       [234.96162366],\n",
       "       [219.48996418],\n",
       "       [189.2554098 ],\n",
       "       [151.49088569],\n",
       "       [133.89264446],\n",
       "       [127.77455535],\n",
       "       [115.45075152],\n",
       "       [118.63176425],\n",
       "       [118.42473072],\n",
       "       [122.86803509],\n",
       "       [130.38155576],\n",
       "       [153.51406396],\n",
       "       [176.36075195],\n",
       "       [200.53867611],\n",
       "       [245.02678815],\n",
       "       [250.55606888],\n",
       "       [289.76411256],\n",
       "       [297.63953415],\n",
       "       [306.81542082],\n",
       "       [308.17667725],\n",
       "       [313.48826651],\n",
       "       [290.18785404],\n",
       "       [284.34368686],\n",
       "       [267.39066798],\n",
       "       [227.40805736],\n",
       "       [207.7091271 ],\n",
       "       [190.90911713],\n",
       "       [156.71325517],\n",
       "       [144.13348477],\n",
       "       [117.37400501],\n",
       "       [113.60725064],\n",
       "       [106.94328669],\n",
       "       [117.7964793 ],\n",
       "       [114.60392024],\n",
       "       [130.55778094],\n",
       "       [169.23326516],\n",
       "       [193.09650685],\n",
       "       [208.45001269],\n",
       "       [229.9407793 ],\n",
       "       [266.5638232 ],\n",
       "       [278.15647353],\n",
       "       [299.84769704],\n",
       "       [300.9711298 ],\n",
       "       [310.07932926],\n",
       "       [311.91682848],\n",
       "       [296.65697952],\n",
       "       [271.57826174],\n",
       "       [256.57079541],\n",
       "       [227.40088516],\n",
       "       [205.57804904],\n",
       "       [190.02121243],\n",
       "       [167.28595733],\n",
       "       [139.07864654],\n",
       "       [125.72937879],\n",
       "       [118.907421  ],\n",
       "       [114.77450218],\n",
       "       [107.65228774],\n",
       "       [113.93671847],\n",
       "       [133.2630201 ],\n",
       "       [151.9550914 ],\n",
       "       [181.67625496],\n",
       "       [213.78131535],\n",
       "       [232.3576832 ],\n",
       "       [266.46851259],\n",
       "       [272.82189711],\n",
       "       [296.75158268],\n",
       "       [307.07221907],\n",
       "       [301.79451665],\n",
       "       [302.4579295 ],\n",
       "       [304.32165444],\n",
       "       [285.0771084 ],\n",
       "       [263.24407082],\n",
       "       [227.22576137],\n",
       "       [211.70437567],\n",
       "       [175.02733712],\n",
       "       [164.39716617],\n",
       "       [141.82550489],\n",
       "       [117.60649187],\n",
       "       [122.64168226],\n",
       "       [103.01624258],\n",
       "       [107.12613385],\n",
       "       [117.1744898 ],\n",
       "       [132.98803064],\n",
       "       [166.93778243],\n",
       "       [191.58030355],\n",
       "       [213.22555751],\n",
       "       [227.13001967],\n",
       "       [250.58468952],\n",
       "       [289.68486248],\n",
       "       [297.04032314],\n",
       "       [308.9781337 ],\n",
       "       [309.57123463],\n",
       "       [296.95458436],\n",
       "       [294.33189054],\n",
       "       [280.02481643],\n",
       "       [269.96329812],\n",
       "       [231.73803884],\n",
       "       [206.62622591],\n",
       "       [182.51681081],\n",
       "       [162.62808332],\n",
       "       [145.41363407],\n",
       "       [131.59221475],\n",
       "       [107.29309301],\n",
       "       [105.55292891],\n",
       "       [118.46184374],\n",
       "       [121.6332614 ],\n",
       "       [146.3809905 ],\n",
       "       [163.22920644],\n",
       "       [190.73739575],\n",
       "       [206.48047097],\n",
       "       [235.71857981],\n",
       "       [253.28660742],\n",
       "       [277.21621387],\n",
       "       [290.83333898],\n",
       "       [301.79601533],\n",
       "       [315.09894518],\n",
       "       [307.62470967],\n",
       "       [286.67862542],\n",
       "       [289.68974297],\n",
       "       [257.07642817],\n",
       "       [242.33607221],\n",
       "       [201.27803517],\n",
       "       [182.79802924],\n",
       "       [168.70257542],\n",
       "       [146.89291729],\n",
       "       [121.26594879],\n",
       "       [104.89236761],\n",
       "       [110.29776372],\n",
       "       [121.46501933],\n",
       "       [115.78600848],\n",
       "       [133.34462797],\n",
       "       [169.47824735],\n",
       "       [182.5250578 ]])"
      ]
     },
     "execution_count": 61,
     "metadata": {},
     "output_type": "execute_result"
    }
   ],
   "source": [
    "pred_array = df[['y']].to_numpy()\n",
    "pred_array"
   ]
  },
  {
   "cell_type": "code",
   "execution_count": 62,
   "metadata": {},
   "outputs": [],
   "source": [
    "ert = 150\n",
    "window_sizes = 24\n",
    "cd = MMDDrift(df[['y']].to_numpy())"
   ]
  },
  {
   "cell_type": "code",
   "execution_count": 63,
   "metadata": {},
   "outputs": [
    {
     "data": {
      "text/plain": [
       "{'data': {'is_drift': 0,\n",
       "  'distance': -0.0066246986,\n",
       "  'p_val': 1.0,\n",
       "  'threshold': 0.05,\n",
       "  'distance_threshold': 0.0139580965},\n",
       " 'meta': {'name': 'MMDDriftTF',\n",
       "  'detector_type': 'offline',\n",
       "  'data_type': None,\n",
       "  'version': '0.9.1',\n",
       "  'backend': 'tensorflow'}}"
      ]
     },
     "execution_count": 63,
     "metadata": {},
     "output_type": "execute_result"
    }
   ],
   "source": [
    "drifts = []\n",
    "thresh = []\n",
    "stats = []\n",
    "preds = cd.predict(df[['y']].to_numpy())\n",
    "preds\n"
   ]
  },
  {
   "cell_type": "code",
   "execution_count": 65,
   "metadata": {},
   "outputs": [
    {
     "data": {
      "image/png": "[encoded data removed]",
      "text/plain": [
       "<Figure size 432x288 with 1 Axes>"
      ]
     },
     "metadata": {
      "needs_background": "light"
     },
     "output_type": "display_data"
    }
   ],
   "source": [
    "df['is_drift'] = drifts\n",
    "df['colour'] = df['is_drift'].apply(lambda x: \"k\" if x==0 else \"r\")\n",
    "df['threshold'] = thresh\n",
    "df['stat'] = stats\n",
    "\n",
    "plt.plot(df.ds, df.y, alpha=0.5, c='k')\n",
    "plt.scatter(df.ds, df.y, c=df.colour, label=df.colour)\n",
    "plt.show()"
   ]
  },
  {
   "cell_type": "markdown",
   "metadata": {},
   "source": [
    "# Trend drift"
   ]
  },
  {
   "cell_type": "code",
   "execution_count": 64,
   "metadata": {},
   "outputs": [
    {
     "data": {
      "text/html": [
       "<div>\n",
       "<style scoped>\n",
       "    .dataframe tbody tr th:only-of-type {\n",
       "        vertical-align: middle;\n",
       "    }\n",
       "\n",
       "    .dataframe tbody tr th {\n",
       "        vertical-align: top;\n",
       "    }\n",
       "\n",
       "    .dataframe thead th {\n",
       "        text-align: right;\n",
       "    }\n",
       "</style>\n",
       "<table border=\"1\" class=\"dataframe\">\n",
       "  <thead>\n",
       "    <tr style=\"text-align: right;\">\n",
       "      <th></th>\n",
       "      <th>x</th>\n",
       "      <th>ds</th>\n",
       "      <th>y</th>\n",
       "    </tr>\n",
       "  </thead>\n",
       "  <tbody>\n",
       "    <tr>\n",
       "      <th>0</th>\n",
       "      <td>0</td>\n",
       "      <td>2022-06-23 15:58:29.239057</td>\n",
       "      <td>211.004052</td>\n",
       "    </tr>\n",
       "    <tr>\n",
       "      <th>1</th>\n",
       "      <td>1</td>\n",
       "      <td>2022-06-23 16:58:29.239057</td>\n",
       "      <td>233.306481</td>\n",
       "    </tr>\n",
       "    <tr>\n",
       "      <th>2</th>\n",
       "      <td>2</td>\n",
       "      <td>2022-06-23 17:58:29.239057</td>\n",
       "      <td>271.258879</td>\n",
       "    </tr>\n",
       "    <tr>\n",
       "      <th>3</th>\n",
       "      <td>3</td>\n",
       "      <td>2022-06-23 18:58:29.239057</td>\n",
       "      <td>279.884084</td>\n",
       "    </tr>\n",
       "    <tr>\n",
       "      <th>4</th>\n",
       "      <td>4</td>\n",
       "      <td>2022-06-23 19:58:29.239057</td>\n",
       "      <td>310.258385</td>\n",
       "    </tr>\n",
       "  </tbody>\n",
       "</table>\n",
       "</div>"
      ],
      "text/plain": [
       "   x                         ds           y\n",
       "0  0 2022-06-23 15:58:29.239057  211.004052\n",
       "1  1 2022-06-23 16:58:29.239057  233.306481\n",
       "2  2 2022-06-23 17:58:29.239057  271.258879\n",
       "3  3 2022-06-23 18:58:29.239057  279.884084\n",
       "4  4 2022-06-23 19:58:29.239057  310.258385"
      ]
     },
     "execution_count": 64,
     "metadata": {},
     "output_type": "execute_result"
    }
   ],
   "source": [
    "N = 100\n",
    "\n",
    "test_df = pd.DataFrame(data={\n",
    "    'x': range(N),\n",
    "    'ds': pd.date_range(start=\"now\", periods=N, freq='1h'),\n",
    "    'y': [generator.generate_step(t=t, period=24, amplitude=100, error=20, mean=200) for t in range(N)] + np.linspace(start=0, stop=100, num=N)\n",
    "})\n",
    "test_df.head()"
   ]
  },
  {
   "cell_type": "code",
   "execution_count": 65,
   "metadata": {},
   "outputs": [],
   "source": [
    "drifts = [0]*2\n",
    "thresh = [0]*2\n",
    "\n",
    "pred_array = test_df[['y']].to_numpy()\n",
    "for i in range(2, N):\n",
    "    preds = cd.predict(pred_array[i-2:i])\n",
    "    data = preds[\"data\"]\n",
    "    drifts.append(data['is_drift'])\n",
    "    thresh.append(data['threshold'])\n",
    "    # stats.append(data['test_stat'])"
   ]
  },
  {
   "cell_type": "code",
   "execution_count": 66,
   "metadata": {},
   "outputs": [
    {
     "data": {
      "image/png": "[encoded data removed]",
      "text/plain": [
       "<Figure size 432x288 with 1 Axes>"
      ]
     },
     "metadata": {
      "needs_background": "light"
     },
     "output_type": "display_data"
    }
   ],
   "source": [
    "test_df['is_drift'] = drifts\n",
    "test_df['colour'] = test_df['is_drift'].apply(lambda x: \"k\" if x==0 else \"r\")\n",
    "test_df['threshold'] = thresh\n",
    "# test_df['stat'] = stats\n",
    "\n",
    "plt.plot(test_df.ds, test_df.y, alpha=0.5, c='k')\n",
    "plt.scatter(test_df.ds, test_df.y, c=test_df.colour, label=test_df.colour)\n",
    "plt.show()"
   ]
  },
  {
   "cell_type": "markdown",
   "metadata": {},
   "source": [
    "# Saving"
   ]
  },
  {
   "cell_type": "code",
   "execution_count": 67,
   "metadata": {},
   "outputs": [],
   "source": [
    "from alibi_detect.utils.saving import save_detector\n",
    "\n",
    "save_detector(detector=cd, filepath=\"./model\")"
   ]
  },
  {
   "cell_type": "code",
   "execution_count": null,
   "metadata": {},
   "outputs": [],
   "source": []
  }
 ],
 "metadata": {
  "kernelspec": {
   "display_name": "Python 3.8.13 ('rhose-experiments')",
   "language": "python",
   "name": "python3"
  },
  "language_info": {
   "codemirror_mode": {
    "name": "ipython",
    "version": 3
   },
   "file_extension": ".py",
   "mimetype": "text/x-python",
   "name": "python",
   "nbconvert_exporter": "python",
   "pygments_lexer": "ipython3",
   "version": "3.8.13"
  },
  "orig_nbformat": 4,
  "vscode": {
   "interpreter": {
    "hash": "273acd6561fc57967bc0420cd7e789108cd80439b670dfd32c5ffa0e32fa7ee2"
   }
  }
 },
 "nbformat": 4,
 "nbformat_minor": 2
}
