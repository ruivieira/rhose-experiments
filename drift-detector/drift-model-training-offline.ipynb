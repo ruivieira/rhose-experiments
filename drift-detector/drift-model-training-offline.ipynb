{
 "cells": [
  {
   "cell_type": "code",
   "execution_count": 1,
   "metadata": {},
   "outputs": [],
   "source": [
    "import generator"
   ]
  },
  {
   "cell_type": "code",
   "execution_count": 2,
   "metadata": {},
   "outputs": [],
   "source": [
    "import matplotlib.pyplot as plt\n",
    "import numpy as np\n",
    "import pandas as pd"
   ]
  },
  {
   "cell_type": "markdown",
   "metadata": {},
   "source": [
    "# No outliers, no drift"
   ]
  },
  {
   "cell_type": "code",
   "execution_count": 3,
   "metadata": {},
   "outputs": [],
   "source": [
    "N = 24*7\n",
    "\n",
    "data = [generator.generate_step(t=t, period=24, amplitude=100, error=20, mean=200) for t in range(N)]"
   ]
  },
  {
   "cell_type": "code",
   "execution_count": 4,
   "metadata": {},
   "outputs": [
    {
     "data": {
      "text/html": [
       "<div>\n",
       "<style scoped>\n",
       "    .dataframe tbody tr th:only-of-type {\n",
       "        vertical-align: middle;\n",
       "    }\n",
       "\n",
       "    .dataframe tbody tr th {\n",
       "        vertical-align: top;\n",
       "    }\n",
       "\n",
       "    .dataframe thead th {\n",
       "        text-align: right;\n",
       "    }\n",
       "</style>\n",
       "<table border=\"1\" class=\"dataframe\">\n",
       "  <thead>\n",
       "    <tr style=\"text-align: right;\">\n",
       "      <th></th>\n",
       "      <th>x</th>\n",
       "      <th>ds</th>\n",
       "      <th>y</th>\n",
       "    </tr>\n",
       "  </thead>\n",
       "  <tbody>\n",
       "    <tr>\n",
       "      <th>0</th>\n",
       "      <td>0</td>\n",
       "      <td>2022-06-27 13:33:11.642817</td>\n",
       "      <td>204.441464</td>\n",
       "    </tr>\n",
       "    <tr>\n",
       "      <th>1</th>\n",
       "      <td>1</td>\n",
       "      <td>2022-06-27 14:33:11.642817</td>\n",
       "      <td>228.382227</td>\n",
       "    </tr>\n",
       "    <tr>\n",
       "      <th>2</th>\n",
       "      <td>2</td>\n",
       "      <td>2022-06-27 15:33:11.642817</td>\n",
       "      <td>263.591393</td>\n",
       "    </tr>\n",
       "    <tr>\n",
       "      <th>3</th>\n",
       "      <td>3</td>\n",
       "      <td>2022-06-27 16:33:11.642817</td>\n",
       "      <td>290.072450</td>\n",
       "    </tr>\n",
       "    <tr>\n",
       "      <th>4</th>\n",
       "      <td>4</td>\n",
       "      <td>2022-06-27 17:33:11.642817</td>\n",
       "      <td>290.285281</td>\n",
       "    </tr>\n",
       "    <tr>\n",
       "      <th>5</th>\n",
       "      <td>5</td>\n",
       "      <td>2022-06-27 18:33:11.642817</td>\n",
       "      <td>304.705069</td>\n",
       "    </tr>\n",
       "    <tr>\n",
       "      <th>6</th>\n",
       "      <td>6</td>\n",
       "      <td>2022-06-27 19:33:11.642817</td>\n",
       "      <td>301.916943</td>\n",
       "    </tr>\n",
       "    <tr>\n",
       "      <th>7</th>\n",
       "      <td>7</td>\n",
       "      <td>2022-06-27 20:33:11.642817</td>\n",
       "      <td>310.733838</td>\n",
       "    </tr>\n",
       "    <tr>\n",
       "      <th>8</th>\n",
       "      <td>8</td>\n",
       "      <td>2022-06-27 21:33:11.642817</td>\n",
       "      <td>304.168610</td>\n",
       "    </tr>\n",
       "    <tr>\n",
       "      <th>9</th>\n",
       "      <td>9</td>\n",
       "      <td>2022-06-27 22:33:11.642817</td>\n",
       "      <td>274.046926</td>\n",
       "    </tr>\n",
       "  </tbody>\n",
       "</table>\n",
       "</div>"
      ],
      "text/plain": [
       "   x                         ds           y\n",
       "0  0 2022-06-27 13:33:11.642817  204.441464\n",
       "1  1 2022-06-27 14:33:11.642817  228.382227\n",
       "2  2 2022-06-27 15:33:11.642817  263.591393\n",
       "3  3 2022-06-27 16:33:11.642817  290.072450\n",
       "4  4 2022-06-27 17:33:11.642817  290.285281\n",
       "5  5 2022-06-27 18:33:11.642817  304.705069\n",
       "6  6 2022-06-27 19:33:11.642817  301.916943\n",
       "7  7 2022-06-27 20:33:11.642817  310.733838\n",
       "8  8 2022-06-27 21:33:11.642817  304.168610\n",
       "9  9 2022-06-27 22:33:11.642817  274.046926"
      ]
     },
     "execution_count": 4,
     "metadata": {},
     "output_type": "execute_result"
    }
   ],
   "source": [
    "df = pd.DataFrame(data={\n",
    "    'x': range(N),\n",
    "    'ds': pd.date_range(start=\"now\", periods=N, freq='1h'),\n",
    "    'y': data\n",
    "})\n",
    "df.head(n=10)"
   ]
  },
  {
   "cell_type": "code",
   "execution_count": 5,
   "metadata": {},
   "outputs": [
    {
     "data": {
      "image/png": "[encoded data removed]",
      "text/plain": [
       "<Figure size 432x288 with 1 Axes>"
      ]
     },
     "metadata": {
      "needs_background": "light"
     },
     "output_type": "display_data"
    }
   ],
   "source": [
    "plt.plot(df.ds, df.y, c=\"k\")\n",
    "plt.show()"
   ]
  },
  {
   "cell_type": "code",
   "execution_count": 6,
   "metadata": {},
   "outputs": [
    {
     "name": "stderr",
     "output_type": "stream",
     "text": [
      "Importing plotly failed. Interactive plots will not work.\n"
     ]
    }
   ],
   "source": [
    "import matplotlib.pyplot as plt\n",
    "import numpy as np\n",
    "import os\n",
    "import pandas as pd\n",
    "import tensorflow as tf\n",
    "\n",
    "from alibi_detect.cd import MMDDrift"
   ]
  },
  {
   "cell_type": "code",
   "execution_count": 7,
   "metadata": {},
   "outputs": [
    {
     "data": {
      "text/plain": [
       "array([[204.44146434],\n",
       "       [228.38222698],\n",
       "       [263.59139288],\n",
       "       [290.07244997],\n",
       "       [290.28528067],\n",
       "       [304.70506903],\n",
       "       [301.91694333],\n",
       "       [310.73383811],\n",
       "       [304.1686101 ],\n",
       "       [274.04692642],\n",
       "       [260.18147294],\n",
       "       [230.22138574],\n",
       "       [205.7234365 ],\n",
       "       [179.44816637],\n",
       "       [160.94031476],\n",
       "       [136.0056328 ],\n",
       "       [125.43433761],\n",
       "       [105.97309913],\n",
       "       [102.81344614],\n",
       "       [104.37024042],\n",
       "       [120.51039249],\n",
       "       [134.22484374],\n",
       "       [167.05691389],\n",
       "       [182.00937411],\n",
       "       [202.90794227],\n",
       "       [230.13553661],\n",
       "       [251.6591532 ],\n",
       "       [287.67991259],\n",
       "       [289.53725121],\n",
       "       [302.68916316],\n",
       "       [300.3604022 ],\n",
       "       [305.2703957 ],\n",
       "       [290.61960364],\n",
       "       [271.55709789],\n",
       "       [255.16884054],\n",
       "       [236.55766892],\n",
       "       [215.50040344],\n",
       "       [181.4631576 ],\n",
       "       [151.65269142],\n",
       "       [142.66730872],\n",
       "       [117.58373553],\n",
       "       [122.11191206],\n",
       "       [116.57478914],\n",
       "       [105.9243231 ],\n",
       "       [132.08864675],\n",
       "       [133.72925088],\n",
       "       [153.36162144],\n",
       "       [178.31832564],\n",
       "       [200.55090201],\n",
       "       [234.9043223 ],\n",
       "       [253.08734434],\n",
       "       [289.45344734],\n",
       "       [288.2341995 ],\n",
       "       [308.66780616],\n",
       "       [302.49810578],\n",
       "       [306.02753245],\n",
       "       [296.43559086],\n",
       "       [271.5069957 ],\n",
       "       [261.25991653],\n",
       "       [227.87962904],\n",
       "       [209.46899362],\n",
       "       [177.87157108],\n",
       "       [153.80457772],\n",
       "       [139.18649778],\n",
       "       [120.82436945],\n",
       "       [122.91488087],\n",
       "       [112.69238216],\n",
       "       [104.07078847],\n",
       "       [128.7713394 ],\n",
       "       [130.92287125],\n",
       "       [154.44701358],\n",
       "       [175.61826446],\n",
       "       [200.09049484],\n",
       "       [230.45104775],\n",
       "       [264.41130873],\n",
       "       [282.67217227],\n",
       "       [303.34528938],\n",
       "       [300.60462746],\n",
       "       [307.74146199],\n",
       "       [303.03308519],\n",
       "       [293.91489679],\n",
       "       [274.01861206],\n",
       "       [252.01378867],\n",
       "       [230.11325976],\n",
       "       [217.93381648],\n",
       "       [183.9239435 ],\n",
       "       [156.0078245 ],\n",
       "       [147.76008293],\n",
       "       [122.37160439],\n",
       "       [112.55838417],\n",
       "       [105.8356052 ],\n",
       "       [119.40685775],\n",
       "       [128.67193679],\n",
       "       [131.57177576],\n",
       "       [164.65356187],\n",
       "       [176.97169179],\n",
       "       [200.12714668],\n",
       "       [227.07715824],\n",
       "       [252.65748055],\n",
       "       [273.50403572],\n",
       "       [297.06143388],\n",
       "       [296.88560589],\n",
       "       [309.32729942],\n",
       "       [303.0070172 ],\n",
       "       [298.08629384],\n",
       "       [287.74907387],\n",
       "       [269.78846019],\n",
       "       [232.62970919],\n",
       "       [200.79464303],\n",
       "       [193.33457494],\n",
       "       [164.03927041],\n",
       "       [135.82155674],\n",
       "       [125.76029742],\n",
       "       [120.5803843 ],\n",
       "       [102.74629564],\n",
       "       [106.29912411],\n",
       "       [114.5208597 ],\n",
       "       [141.38411826],\n",
       "       [150.95576885],\n",
       "       [192.78878347],\n",
       "       [208.10384498],\n",
       "       [237.32157063],\n",
       "       [257.63420577],\n",
       "       [279.30276776],\n",
       "       [292.44758225],\n",
       "       [310.59539138],\n",
       "       [301.43193591],\n",
       "       [311.73871466],\n",
       "       [297.56487963],\n",
       "       [283.66466734],\n",
       "       [257.88094364],\n",
       "       [243.65808798],\n",
       "       [206.92954616],\n",
       "       [182.88004956],\n",
       "       [151.8616355 ],\n",
       "       [132.21956061],\n",
       "       [127.48023458],\n",
       "       [106.5726642 ],\n",
       "       [109.67060334],\n",
       "       [105.02925384],\n",
       "       [124.07694174],\n",
       "       [141.07939708],\n",
       "       [163.65587993],\n",
       "       [190.87157587],\n",
       "       [214.44605912],\n",
       "       [238.73786402],\n",
       "       [263.84906658],\n",
       "       [283.25506823],\n",
       "       [291.06315387],\n",
       "       [310.24213252],\n",
       "       [315.40778413],\n",
       "       [313.31224386],\n",
       "       [287.86243301],\n",
       "       [280.91929836],\n",
       "       [256.68414455],\n",
       "       [232.71883846],\n",
       "       [217.15666947],\n",
       "       [189.64532025],\n",
       "       [160.85687358],\n",
       "       [131.60874094],\n",
       "       [116.45798669],\n",
       "       [120.40439814],\n",
       "       [101.3270218 ],\n",
       "       [104.87333518],\n",
       "       [129.4090126 ],\n",
       "       [135.55860298],\n",
       "       [151.66641635],\n",
       "       [193.35193128]])"
      ]
     },
     "execution_count": 7,
     "metadata": {},
     "output_type": "execute_result"
    }
   ],
   "source": [
    "pred_array = df[['y']].to_numpy()\n",
    "pred_array"
   ]
  },
  {
   "cell_type": "code",
   "execution_count": 8,
   "metadata": {},
   "outputs": [
    {
     "name": "stderr",
     "output_type": "stream",
     "text": [
      "2022-06-27 13:33:19.656408: I tensorflow/core/platform/cpu_feature_guard.cc:151] This TensorFlow binary is optimized with oneAPI Deep Neural Network Library (oneDNN) to use the following CPU instructions in performance-critical operations:  AVX2 FMA\n",
      "To enable them in other operations, rebuild TensorFlow with the appropriate compiler flags.\n"
     ]
    }
   ],
   "source": [
    "cd = MMDDrift(df[['y']].to_numpy())"
   ]
  },
  {
   "cell_type": "code",
   "execution_count": 9,
   "metadata": {},
   "outputs": [],
   "source": [
    "drifts = [0]*2\n",
    "thresh = [0]*2\n",
    "\n",
    "pred_array = df[['y']].to_numpy()\n",
    "for i in range(2, N):\n",
    "    preds = cd.predict(pred_array[i-2:i])\n",
    "    data = preds[\"data\"]\n",
    "    drifts.append(data['is_drift'])\n",
    "    thresh.append(data['threshold'])"
   ]
  },
  {
   "cell_type": "code",
   "execution_count": 10,
   "metadata": {},
   "outputs": [
    {
     "data": {
      "image/png": "[encoded data removed]",
      "text/plain": [
       "<Figure size 432x288 with 1 Axes>"
      ]
     },
     "metadata": {
      "needs_background": "light"
     },
     "output_type": "display_data"
    }
   ],
   "source": [
    "df['is_drift'] = drifts\n",
    "df['colour'] = df['is_drift'].apply(lambda x: \"k\" if x==0 else \"r\")\n",
    "df['threshold'] = thresh\n",
    "\n",
    "plt.plot(df.ds, df.y, alpha=0.5, c='k')\n",
    "plt.scatter(df.ds, df.y, c=df.colour, label=df.colour)\n",
    "plt.show()"
   ]
  },
  {
   "cell_type": "markdown",
   "metadata": {},
   "source": [
    "# Trend drift"
   ]
  },
  {
   "cell_type": "code",
   "execution_count": 11,
   "metadata": {},
   "outputs": [
    {
     "data": {
      "text/html": [
       "<div>\n",
       "<style scoped>\n",
       "    .dataframe tbody tr th:only-of-type {\n",
       "        vertical-align: middle;\n",
       "    }\n",
       "\n",
       "    .dataframe tbody tr th {\n",
       "        vertical-align: top;\n",
       "    }\n",
       "\n",
       "    .dataframe thead th {\n",
       "        text-align: right;\n",
       "    }\n",
       "</style>\n",
       "<table border=\"1\" class=\"dataframe\">\n",
       "  <thead>\n",
       "    <tr style=\"text-align: right;\">\n",
       "      <th></th>\n",
       "      <th>x</th>\n",
       "      <th>ds</th>\n",
       "      <th>y</th>\n",
       "    </tr>\n",
       "  </thead>\n",
       "  <tbody>\n",
       "    <tr>\n",
       "      <th>0</th>\n",
       "      <td>0</td>\n",
       "      <td>2022-06-27 13:33:48.037873</td>\n",
       "      <td>216.555416</td>\n",
       "    </tr>\n",
       "    <tr>\n",
       "      <th>1</th>\n",
       "      <td>1</td>\n",
       "      <td>2022-06-27 14:33:48.037873</td>\n",
       "      <td>236.392533</td>\n",
       "    </tr>\n",
       "    <tr>\n",
       "      <th>2</th>\n",
       "      <td>2</td>\n",
       "      <td>2022-06-27 15:33:48.037873</td>\n",
       "      <td>262.194106</td>\n",
       "    </tr>\n",
       "    <tr>\n",
       "      <th>3</th>\n",
       "      <td>3</td>\n",
       "      <td>2022-06-27 16:33:48.037873</td>\n",
       "      <td>279.775766</td>\n",
       "    </tr>\n",
       "    <tr>\n",
       "      <th>4</th>\n",
       "      <td>4</td>\n",
       "      <td>2022-06-27 17:33:48.037873</td>\n",
       "      <td>305.093547</td>\n",
       "    </tr>\n",
       "  </tbody>\n",
       "</table>\n",
       "</div>"
      ],
      "text/plain": [
       "   x                         ds           y\n",
       "0  0 2022-06-27 13:33:48.037873  216.555416\n",
       "1  1 2022-06-27 14:33:48.037873  236.392533\n",
       "2  2 2022-06-27 15:33:48.037873  262.194106\n",
       "3  3 2022-06-27 16:33:48.037873  279.775766\n",
       "4  4 2022-06-27 17:33:48.037873  305.093547"
      ]
     },
     "execution_count": 11,
     "metadata": {},
     "output_type": "execute_result"
    }
   ],
   "source": [
    "N = 100\n",
    "\n",
    "test_df = pd.DataFrame(data={\n",
    "    'x': range(N),\n",
    "    'ds': pd.date_range(start=\"now\", periods=N, freq='1h'),\n",
    "    'y': [generator.generate_step(t=t, period=24, amplitude=100, error=20, mean=200) for t in range(N)] + np.linspace(start=0, stop=100, num=N)\n",
    "})\n",
    "test_df.head()"
   ]
  },
  {
   "cell_type": "code",
   "execution_count": 12,
   "metadata": {},
   "outputs": [],
   "source": [
    "drifts = [0]*2\n",
    "thresh = [0]*2\n",
    "\n",
    "pred_array = test_df[['y']].to_numpy()\n",
    "for i in range(2, N):\n",
    "    preds = cd.predict(pred_array[i-2:i])\n",
    "    data = preds[\"data\"]\n",
    "    drifts.append(data['is_drift'])\n",
    "    thresh.append(data['threshold'])"
   ]
  },
  {
   "cell_type": "code",
   "execution_count": 13,
   "metadata": {},
   "outputs": [
    {
     "data": {
      "image/png": "[encoded data removed]",
      "text/plain": [
       "<Figure size 432x288 with 1 Axes>"
      ]
     },
     "metadata": {
      "needs_background": "light"
     },
     "output_type": "display_data"
    }
   ],
   "source": [
    "test_df['is_drift'] = drifts\n",
    "test_df['colour'] = test_df['is_drift'].apply(lambda x: \"k\" if x==0 else \"r\")\n",
    "test_df['threshold'] = thresh\n",
    "# test_df['stat'] = stats\n",
    "\n",
    "plt.plot(test_df.ds, test_df.y, alpha=0.5, c='k')\n",
    "plt.scatter(test_df.ds, test_df.y, c=test_df.colour, label=test_df.colour)\n",
    "plt.show()"
   ]
  },
  {
   "cell_type": "markdown",
   "metadata": {},
   "source": [
    "# \"Real\" data"
   ]
  },
  {
   "cell_type": "code",
   "execution_count": 34,
   "metadata": {},
   "outputs": [],
   "source": [
    "N = 60 * 24  # minutes * hours\n",
    "\n",
    "data = [generator.generate_step(t=t, period=N, amplitude=0.1, error=100, mean=200) for t in range(N)]"
   ]
  },
  {
   "cell_type": "code",
   "execution_count": 35,
   "metadata": {},
   "outputs": [
    {
     "data": {
      "text/html": [
       "<div>\n",
       "<style scoped>\n",
       "    .dataframe tbody tr th:only-of-type {\n",
       "        vertical-align: middle;\n",
       "    }\n",
       "\n",
       "    .dataframe tbody tr th {\n",
       "        vertical-align: top;\n",
       "    }\n",
       "\n",
       "    .dataframe thead th {\n",
       "        text-align: right;\n",
       "    }\n",
       "</style>\n",
       "<table border=\"1\" class=\"dataframe\">\n",
       "  <thead>\n",
       "    <tr style=\"text-align: right;\">\n",
       "      <th></th>\n",
       "      <th>x</th>\n",
       "      <th>ds</th>\n",
       "      <th>y</th>\n",
       "    </tr>\n",
       "  </thead>\n",
       "  <tbody>\n",
       "    <tr>\n",
       "      <th>0</th>\n",
       "      <td>0</td>\n",
       "      <td>2022-06-27 13:45:22.093787</td>\n",
       "      <td>211.354518</td>\n",
       "    </tr>\n",
       "    <tr>\n",
       "      <th>1</th>\n",
       "      <td>1</td>\n",
       "      <td>2022-06-27 13:46:22.093787</td>\n",
       "      <td>265.127683</td>\n",
       "    </tr>\n",
       "    <tr>\n",
       "      <th>2</th>\n",
       "      <td>2</td>\n",
       "      <td>2022-06-27 13:47:22.093787</td>\n",
       "      <td>235.174836</td>\n",
       "    </tr>\n",
       "    <tr>\n",
       "      <th>3</th>\n",
       "      <td>3</td>\n",
       "      <td>2022-06-27 13:48:22.093787</td>\n",
       "      <td>261.019980</td>\n",
       "    </tr>\n",
       "    <tr>\n",
       "      <th>4</th>\n",
       "      <td>4</td>\n",
       "      <td>2022-06-27 13:49:22.093787</td>\n",
       "      <td>228.583535</td>\n",
       "    </tr>\n",
       "    <tr>\n",
       "      <th>5</th>\n",
       "      <td>5</td>\n",
       "      <td>2022-06-27 13:50:22.093787</td>\n",
       "      <td>227.599539</td>\n",
       "    </tr>\n",
       "    <tr>\n",
       "      <th>6</th>\n",
       "      <td>6</td>\n",
       "      <td>2022-06-27 13:51:22.093787</td>\n",
       "      <td>249.666706</td>\n",
       "    </tr>\n",
       "    <tr>\n",
       "      <th>7</th>\n",
       "      <td>7</td>\n",
       "      <td>2022-06-27 13:52:22.093787</td>\n",
       "      <td>276.222698</td>\n",
       "    </tr>\n",
       "    <tr>\n",
       "      <th>8</th>\n",
       "      <td>8</td>\n",
       "      <td>2022-06-27 13:53:22.093787</td>\n",
       "      <td>229.130553</td>\n",
       "    </tr>\n",
       "    <tr>\n",
       "      <th>9</th>\n",
       "      <td>9</td>\n",
       "      <td>2022-06-27 13:54:22.093787</td>\n",
       "      <td>245.556236</td>\n",
       "    </tr>\n",
       "  </tbody>\n",
       "</table>\n",
       "</div>"
      ],
      "text/plain": [
       "   x                         ds           y\n",
       "0  0 2022-06-27 13:45:22.093787  211.354518\n",
       "1  1 2022-06-27 13:46:22.093787  265.127683\n",
       "2  2 2022-06-27 13:47:22.093787  235.174836\n",
       "3  3 2022-06-27 13:48:22.093787  261.019980\n",
       "4  4 2022-06-27 13:49:22.093787  228.583535\n",
       "5  5 2022-06-27 13:50:22.093787  227.599539\n",
       "6  6 2022-06-27 13:51:22.093787  249.666706\n",
       "7  7 2022-06-27 13:52:22.093787  276.222698\n",
       "8  8 2022-06-27 13:53:22.093787  229.130553\n",
       "9  9 2022-06-27 13:54:22.093787  245.556236"
      ]
     },
     "execution_count": 35,
     "metadata": {},
     "output_type": "execute_result"
    }
   ],
   "source": [
    "df = pd.DataFrame(data={\n",
    "    'x': range(N),\n",
    "    'ds': pd.date_range(start=\"now\", periods=N, freq='1min'),\n",
    "    'y': data\n",
    "})\n",
    "df.head(n=10)"
   ]
  },
  {
   "cell_type": "code",
   "execution_count": 36,
   "metadata": {},
   "outputs": [
    {
     "data": {
      "text/plain": [
       "[<matplotlib.lines.Line2D at 0x17334e1c0>]"
      ]
     },
     "execution_count": 36,
     "metadata": {},
     "output_type": "execute_result"
    },
    {
     "data": {
      "image/png": "[encoded data removed]",
      "text/plain": [
       "<Figure size 432x288 with 1 Axes>"
      ]
     },
     "metadata": {
      "needs_background": "light"
     },
     "output_type": "display_data"
    }
   ],
   "source": [
    "plt.plot(df.ds[0:1800], df.y[0:1800], c=\"k\")"
   ]
  },
  {
   "cell_type": "markdown",
   "metadata": {},
   "source": [
    "The training of the drift detector:"
   ]
  },
  {
   "cell_type": "code",
   "execution_count": 37,
   "metadata": {},
   "outputs": [],
   "source": [
    "cd = MMDDrift(df[['y']].to_numpy(), p_val=0.05)"
   ]
  },
  {
   "cell_type": "code",
   "execution_count": 38,
   "metadata": {},
   "outputs": [],
   "source": [
    "NC = 50\n",
    "\n",
    "pred_array = df[['y']].to_numpy()\n",
    "chunks = np.array_split(pred_array, NC)"
   ]
  },
  {
   "cell_type": "code",
   "execution_count": 39,
   "metadata": {},
   "outputs": [],
   "source": [
    "drifts = []\n",
    "thresh = []\n",
    "\n",
    "for i in range(NC):\n",
    "    preds = cd.predict(chunks[i])\n",
    "    pdata = preds[\"data\"]\n",
    "    drifts.append(pdata['is_drift'])\n",
    "    thresh.append(pdata['threshold'])"
   ]
  },
  {
   "cell_type": "code",
   "execution_count": 40,
   "metadata": {},
   "outputs": [
    {
     "name": "stdout",
     "output_type": "stream",
     "text": [
      "[0, 0, 0, 0, 0, 0, 0, 0, 0, 0, 0, 0, 1, 0, 0, 0, 0, 0, 0, 0, 0, 0, 0, 0, 0, 0, 0, 0, 0, 1, 0, 0, 0, 0, 0, 0, 0, 0, 0, 0, 0, 0, 0, 0, 0, 0, 0, 0, 0, 0]\n",
      "[0.05, 0.05, 0.05, 0.05, 0.05, 0.05, 0.05, 0.05, 0.05, 0.05, 0.05, 0.05, 0.05, 0.05, 0.05, 0.05, 0.05, 0.05, 0.05, 0.05, 0.05, 0.05, 0.05, 0.05, 0.05, 0.05, 0.05, 0.05, 0.05, 0.05, 0.05, 0.05, 0.05, 0.05, 0.05, 0.05, 0.05, 0.05, 0.05, 0.05, 0.05, 0.05, 0.05, 0.05, 0.05, 0.05, 0.05, 0.05, 0.05, 0.05]\n"
     ]
    }
   ],
   "source": [
    "print(drifts)\n",
    "print(thresh)"
   ]
  },
  {
   "cell_type": "code",
   "execution_count": 41,
   "metadata": {},
   "outputs": [
    {
     "data": {
      "text/plain": [
       "[<matplotlib.lines.Line2D at 0x1733fdf10>]"
      ]
     },
     "execution_count": 41,
     "metadata": {},
     "output_type": "execute_result"
    },
    {
     "data": {
      "image/png": "[encoded data removed]",
      "text/plain": [
       "<Figure size 432x288 with 1 Axes>"
      ]
     },
     "metadata": {
      "needs_background": "light"
     },
     "output_type": "display_data"
    }
   ],
   "source": [
    "colour = [\"k\" if d == 0 else \"r\" for d in drifts]\n",
    "plt.scatter(range(NC), drifts, c=colour)\n",
    "plt.plot(range(NC), thresh)"
   ]
  },
  {
   "cell_type": "markdown",
   "metadata": {},
   "source": [
    "## Testing with a trend"
   ]
  },
  {
   "cell_type": "code",
   "execution_count": 42,
   "metadata": {},
   "outputs": [
    {
     "data": {
      "text/html": [
       "<div>\n",
       "<style scoped>\n",
       "    .dataframe tbody tr th:only-of-type {\n",
       "        vertical-align: middle;\n",
       "    }\n",
       "\n",
       "    .dataframe tbody tr th {\n",
       "        vertical-align: top;\n",
       "    }\n",
       "\n",
       "    .dataframe thead th {\n",
       "        text-align: right;\n",
       "    }\n",
       "</style>\n",
       "<table border=\"1\" class=\"dataframe\">\n",
       "  <thead>\n",
       "    <tr style=\"text-align: right;\">\n",
       "      <th></th>\n",
       "      <th>x</th>\n",
       "      <th>ds</th>\n",
       "      <th>y</th>\n",
       "    </tr>\n",
       "  </thead>\n",
       "  <tbody>\n",
       "    <tr>\n",
       "      <th>0</th>\n",
       "      <td>0</td>\n",
       "      <td>2022-06-27 13:46:39.604746</td>\n",
       "      <td>211.354518</td>\n",
       "    </tr>\n",
       "    <tr>\n",
       "      <th>1</th>\n",
       "      <td>1</td>\n",
       "      <td>2022-06-27 13:47:39.604746</td>\n",
       "      <td>265.197175</td>\n",
       "    </tr>\n",
       "    <tr>\n",
       "      <th>2</th>\n",
       "      <td>2</td>\n",
       "      <td>2022-06-27 13:48:39.604746</td>\n",
       "      <td>235.313822</td>\n",
       "    </tr>\n",
       "    <tr>\n",
       "      <th>3</th>\n",
       "      <td>3</td>\n",
       "      <td>2022-06-27 13:49:39.604746</td>\n",
       "      <td>261.228458</td>\n",
       "    </tr>\n",
       "    <tr>\n",
       "      <th>4</th>\n",
       "      <td>4</td>\n",
       "      <td>2022-06-27 13:50:39.604746</td>\n",
       "      <td>228.861506</td>\n",
       "    </tr>\n",
       "    <tr>\n",
       "      <th>5</th>\n",
       "      <td>5</td>\n",
       "      <td>2022-06-27 13:51:39.604746</td>\n",
       "      <td>227.947003</td>\n",
       "    </tr>\n",
       "    <tr>\n",
       "      <th>6</th>\n",
       "      <td>6</td>\n",
       "      <td>2022-06-27 13:52:39.604746</td>\n",
       "      <td>250.083662</td>\n",
       "    </tr>\n",
       "    <tr>\n",
       "      <th>7</th>\n",
       "      <td>7</td>\n",
       "      <td>2022-06-27 13:53:39.604746</td>\n",
       "      <td>276.709147</td>\n",
       "    </tr>\n",
       "    <tr>\n",
       "      <th>8</th>\n",
       "      <td>8</td>\n",
       "      <td>2022-06-27 13:54:39.604746</td>\n",
       "      <td>229.686495</td>\n",
       "    </tr>\n",
       "    <tr>\n",
       "      <th>9</th>\n",
       "      <td>9</td>\n",
       "      <td>2022-06-27 13:55:39.604746</td>\n",
       "      <td>246.181671</td>\n",
       "    </tr>\n",
       "  </tbody>\n",
       "</table>\n",
       "</div>"
      ],
      "text/plain": [
       "   x                         ds           y\n",
       "0  0 2022-06-27 13:46:39.604746  211.354518\n",
       "1  1 2022-06-27 13:47:39.604746  265.197175\n",
       "2  2 2022-06-27 13:48:39.604746  235.313822\n",
       "3  3 2022-06-27 13:49:39.604746  261.228458\n",
       "4  4 2022-06-27 13:50:39.604746  228.861506\n",
       "5  5 2022-06-27 13:51:39.604746  227.947003\n",
       "6  6 2022-06-27 13:52:39.604746  250.083662\n",
       "7  7 2022-06-27 13:53:39.604746  276.709147\n",
       "8  8 2022-06-27 13:54:39.604746  229.686495\n",
       "9  9 2022-06-27 13:55:39.604746  246.181671"
      ]
     },
     "execution_count": 42,
     "metadata": {},
     "output_type": "execute_result"
    }
   ],
   "source": [
    "df = pd.DataFrame(data={\n",
    "    'x': range(N),\n",
    "    'ds': pd.date_range(start=\"now\", periods=N, freq='1min'),\n",
    "    'y': data + np.linspace(start=0, stop=100, num=N)\n",
    "})\n",
    "df.head(n=10)"
   ]
  },
  {
   "cell_type": "code",
   "execution_count": 47,
   "metadata": {},
   "outputs": [
    {
     "data": {
      "text/plain": [
       "[<matplotlib.lines.Line2D at 0x1734c1be0>]"
      ]
     },
     "execution_count": 47,
     "metadata": {},
     "output_type": "execute_result"
    },
    {
     "data": {
      "image/png": "[encoded data removed]",
      "text/plain": [
       "<Figure size 432x288 with 1 Axes>"
      ]
     },
     "metadata": {
      "needs_background": "light"
     },
     "output_type": "display_data"
    }
   ],
   "source": [
    "plt.plot(df.ds[0:1800], df.y[0:1800], c=\"k\")"
   ]
  },
  {
   "cell_type": "code",
   "execution_count": 43,
   "metadata": {},
   "outputs": [],
   "source": [
    "NC = 50\n",
    "\n",
    "pred_array = df[['y']].to_numpy()\n",
    "chunks = np.array_split(pred_array, NC)"
   ]
  },
  {
   "cell_type": "code",
   "execution_count": 44,
   "metadata": {},
   "outputs": [],
   "source": [
    "drifts = []\n",
    "thresh = []\n",
    "\n",
    "for i in range(NC):\n",
    "    preds = cd.predict(chunks[i])\n",
    "    pdata = preds[\"data\"]\n",
    "    drifts.append(pdata['is_drift'])\n",
    "    thresh.append(pdata['threshold'])"
   ]
  },
  {
   "cell_type": "code",
   "execution_count": 45,
   "metadata": {},
   "outputs": [
    {
     "name": "stdout",
     "output_type": "stream",
     "text": [
      "[0, 0, 0, 0, 1, 1, 0, 0, 0, 1, 0, 1, 1, 1, 1, 1, 1, 1, 1, 1, 1, 1, 1, 1, 1, 1, 1, 1, 1, 1, 1, 1, 1, 1, 1, 1, 1, 1, 1, 1, 1, 1, 1, 1, 1, 1, 1, 1, 1, 1]\n",
      "[0.05, 0.05, 0.05, 0.05, 0.05, 0.05, 0.05, 0.05, 0.05, 0.05, 0.05, 0.05, 0.05, 0.05, 0.05, 0.05, 0.05, 0.05, 0.05, 0.05, 0.05, 0.05, 0.05, 0.05, 0.05, 0.05, 0.05, 0.05, 0.05, 0.05, 0.05, 0.05, 0.05, 0.05, 0.05, 0.05, 0.05, 0.05, 0.05, 0.05, 0.05, 0.05, 0.05, 0.05, 0.05, 0.05, 0.05, 0.05, 0.05, 0.05]\n"
     ]
    }
   ],
   "source": [
    "print(drifts)\n",
    "print(thresh)"
   ]
  },
  {
   "cell_type": "code",
   "execution_count": 46,
   "metadata": {},
   "outputs": [
    {
     "data": {
      "text/plain": [
       "[<matplotlib.lines.Line2D at 0x1734681c0>]"
      ]
     },
     "execution_count": 46,
     "metadata": {},
     "output_type": "execute_result"
    },
    {
     "data": {
      "image/png": "[encoded data removed]",
      "text/plain": [
       "<Figure size 432x288 with 1 Axes>"
      ]
     },
     "metadata": {
      "needs_background": "light"
     },
     "output_type": "display_data"
    }
   ],
   "source": [
    "colour = [\"k\" if d == 0 else \"r\" for d in drifts]\n",
    "plt.scatter(range(NC), drifts, c=colour)\n",
    "plt.plot(range(NC), thresh)"
   ]
  },
  {
   "cell_type": "markdown",
   "metadata": {},
   "source": [
    "## Saving the model"
   ]
  },
  {
   "cell_type": "code",
   "execution_count": 48,
   "metadata": {},
   "outputs": [],
   "source": [
    "from alibi_detect.utils.saving import save_detector\n",
    "\n",
    "save_detector(detector=cd, filepath=\"./model\")"
   ]
  },
  {
   "cell_type": "code",
   "execution_count": null,
   "metadata": {},
   "outputs": [],
   "source": []
  }
 ],
 "metadata": {
  "kernelspec": {
   "display_name": "Python 3.8.13 ('rhose-experiments')",
   "language": "python",
   "name": "python3"
  },
  "language_info": {
   "codemirror_mode": {
    "name": "ipython",
    "version": 3
   },
   "file_extension": ".py",
   "mimetype": "text/x-python",
   "name": "python",
   "nbconvert_exporter": "python",
   "pygments_lexer": "ipython3",
   "version": "3.8.13"
  },
  "orig_nbformat": 4,
  "vscode": {
   "interpreter": {
    "hash": "273acd6561fc57967bc0420cd7e789108cd80439b670dfd32c5ffa0e32fa7ee2"
   }
  }
 },
 "nbformat": 4,
 "nbformat_minor": 2
}
