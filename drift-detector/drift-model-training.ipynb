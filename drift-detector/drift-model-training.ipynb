{
 "cells": [
  {
   "cell_type": "code",
   "execution_count": 1,
   "metadata": {},
   "outputs": [],
   "source": [
    "import generator"
   ]
  },
  {
   "cell_type": "code",
   "execution_count": 2,
   "metadata": {},
   "outputs": [],
   "source": [
    "import matplotlib.pyplot as plt\n",
    "import numpy as np\n",
    "import pandas as pd"
   ]
  },
  {
   "cell_type": "markdown",
   "metadata": {},
   "source": [
    "# No outliers, no drift"
   ]
  },
  {
   "cell_type": "code",
   "execution_count": 3,
   "metadata": {},
   "outputs": [],
   "source": [
    "data = [generator.generate_step(t=t, period=24, amplitude=100, error=20, mean=200) for t in range(24*7)]"
   ]
  },
  {
   "cell_type": "code",
   "execution_count": 4,
   "metadata": {},
   "outputs": [],
   "source": [
    "df = pd.DataFrame(data={\n",
    "    'x': range(24*7),\n",
    "    'ds': pd.date_range(start=\"now\", periods=24*7, freq='1h'),\n",
    "    'y': data\n",
    "})"
   ]
  },
  {
   "cell_type": "code",
   "execution_count": 5,
   "metadata": {},
   "outputs": [
    {
     "data": {
      "text/html": [
       "<div>\n",
       "<style scoped>\n",
       "    .dataframe tbody tr th:only-of-type {\n",
       "        vertical-align: middle;\n",
       "    }\n",
       "\n",
       "    .dataframe tbody tr th {\n",
       "        vertical-align: top;\n",
       "    }\n",
       "\n",
       "    .dataframe thead th {\n",
       "        text-align: right;\n",
       "    }\n",
       "</style>\n",
       "<table border=\"1\" class=\"dataframe\">\n",
       "  <thead>\n",
       "    <tr style=\"text-align: right;\">\n",
       "      <th></th>\n",
       "      <th>x</th>\n",
       "      <th>ds</th>\n",
       "      <th>y</th>\n",
       "    </tr>\n",
       "  </thead>\n",
       "  <tbody>\n",
       "    <tr>\n",
       "      <th>0</th>\n",
       "      <td>0</td>\n",
       "      <td>2022-06-23 14:19:23.822033</td>\n",
       "      <td>203.515979</td>\n",
       "    </tr>\n",
       "    <tr>\n",
       "      <th>1</th>\n",
       "      <td>1</td>\n",
       "      <td>2022-06-23 15:19:23.822033</td>\n",
       "      <td>239.472228</td>\n",
       "    </tr>\n",
       "    <tr>\n",
       "      <th>2</th>\n",
       "      <td>2</td>\n",
       "      <td>2022-06-23 16:19:23.822033</td>\n",
       "      <td>255.285904</td>\n",
       "    </tr>\n",
       "    <tr>\n",
       "      <th>3</th>\n",
       "      <td>3</td>\n",
       "      <td>2022-06-23 17:19:23.822033</td>\n",
       "      <td>290.458895</td>\n",
       "    </tr>\n",
       "    <tr>\n",
       "      <th>4</th>\n",
       "      <td>4</td>\n",
       "      <td>2022-06-23 18:19:23.822033</td>\n",
       "      <td>303.816944</td>\n",
       "    </tr>\n",
       "    <tr>\n",
       "      <th>...</th>\n",
       "      <td>...</td>\n",
       "      <td>...</td>\n",
       "      <td>...</td>\n",
       "    </tr>\n",
       "    <tr>\n",
       "      <th>163</th>\n",
       "      <td>163</td>\n",
       "      <td>2022-06-30 09:19:23.822033</td>\n",
       "      <td>107.013680</td>\n",
       "    </tr>\n",
       "    <tr>\n",
       "      <th>164</th>\n",
       "      <td>164</td>\n",
       "      <td>2022-06-30 10:19:23.822033</td>\n",
       "      <td>124.205968</td>\n",
       "    </tr>\n",
       "    <tr>\n",
       "      <th>165</th>\n",
       "      <td>165</td>\n",
       "      <td>2022-06-30 11:19:23.822033</td>\n",
       "      <td>133.042161</td>\n",
       "    </tr>\n",
       "    <tr>\n",
       "      <th>166</th>\n",
       "      <td>166</td>\n",
       "      <td>2022-06-30 12:19:23.822033</td>\n",
       "      <td>160.718640</td>\n",
       "    </tr>\n",
       "    <tr>\n",
       "      <th>167</th>\n",
       "      <td>167</td>\n",
       "      <td>2022-06-30 13:19:23.822033</td>\n",
       "      <td>186.827895</td>\n",
       "    </tr>\n",
       "  </tbody>\n",
       "</table>\n",
       "<p>168 rows × 3 columns</p>\n",
       "</div>"
      ],
      "text/plain": [
       "       x                         ds           y\n",
       "0      0 2022-06-23 14:19:23.822033  203.515979\n",
       "1      1 2022-06-23 15:19:23.822033  239.472228\n",
       "2      2 2022-06-23 16:19:23.822033  255.285904\n",
       "3      3 2022-06-23 17:19:23.822033  290.458895\n",
       "4      4 2022-06-23 18:19:23.822033  303.816944\n",
       "..   ...                        ...         ...\n",
       "163  163 2022-06-30 09:19:23.822033  107.013680\n",
       "164  164 2022-06-30 10:19:23.822033  124.205968\n",
       "165  165 2022-06-30 11:19:23.822033  133.042161\n",
       "166  166 2022-06-30 12:19:23.822033  160.718640\n",
       "167  167 2022-06-30 13:19:23.822033  186.827895\n",
       "\n",
       "[168 rows x 3 columns]"
      ]
     },
     "execution_count": 5,
     "metadata": {},
     "output_type": "execute_result"
    }
   ],
   "source": [
    "df"
   ]
  },
  {
   "cell_type": "code",
   "execution_count": 6,
   "metadata": {},
   "outputs": [
    {
     "data": {
      "image/png": "[encoded data removed]",
      "text/plain": [
       "<Figure size 432x288 with 1 Axes>"
      ]
     },
     "metadata": {
      "needs_background": "light"
     },
     "output_type": "display_data"
    }
   ],
   "source": [
    "plt.plot(df.ds, df.y, c=\"k\")\n",
    "plt.show()"
   ]
  },
  {
   "cell_type": "code",
   "execution_count": 61,
   "metadata": {},
   "outputs": [],
   "source": [
    "import matplotlib.pyplot as plt\n",
    "import numpy as np\n",
    "import os\n",
    "import pandas as pd\n",
    "import tensorflow as tf\n",
    "\n",
    "from alibi_detect.cd import MMDDriftOnline"
   ]
  },
  {
   "cell_type": "code",
   "execution_count": 62,
   "metadata": {},
   "outputs": [
    {
     "data": {
      "text/plain": [
       "array([[203.51597873],\n",
       "       [239.4722283 ],\n",
       "       [255.28590436],\n",
       "       [290.45889495],\n",
       "       [303.81694366],\n",
       "       [305.29478503],\n",
       "       [302.2810365 ],\n",
       "       [311.23087584],\n",
       "       [292.89941323],\n",
       "       [286.50782104],\n",
       "       [269.94316415],\n",
       "       [228.35035467],\n",
       "       [209.16794606],\n",
       "       [192.18882995],\n",
       "       [168.29341431],\n",
       "       [138.66093032],\n",
       "       [125.54806291],\n",
       "       [106.51780207],\n",
       "       [109.50776101],\n",
       "       [110.08618884],\n",
       "       [126.26325089],\n",
       "       [131.22893174],\n",
       "       [150.40604556],\n",
       "       [185.16691242],\n",
       "       [208.82221785],\n",
       "       [242.98906568],\n",
       "       [268.99022906],\n",
       "       [274.1585441 ],\n",
       "       [300.70181729],\n",
       "       [309.14373791],\n",
       "       [307.96485606],\n",
       "       [307.97854534],\n",
       "       [295.49806958],\n",
       "       [280.416077  ],\n",
       "       [260.16837566],\n",
       "       [245.238501  ],\n",
       "       [203.26503336],\n",
       "       [189.29920481],\n",
       "       [152.73112123],\n",
       "       [135.77152981],\n",
       "       [132.72388052],\n",
       "       [116.48392962],\n",
       "       [103.89606205],\n",
       "       [105.72798947],\n",
       "       [124.8036565 ],\n",
       "       [145.51843176],\n",
       "       [151.19033924],\n",
       "       [187.59539802],\n",
       "       [217.57304991],\n",
       "       [233.73186819],\n",
       "       [256.83957296],\n",
       "       [287.94221726],\n",
       "       [298.06667311],\n",
       "       [303.17335627],\n",
       "       [316.71250848],\n",
       "       [308.42967861],\n",
       "       [298.22462027],\n",
       "       [281.3938571 ],\n",
       "       [255.55204971],\n",
       "       [235.56170106],\n",
       "       [217.18545853],\n",
       "       [174.26718902],\n",
       "       [163.77924124],\n",
       "       [144.49988613],\n",
       "       [118.57264918],\n",
       "       [108.79947089],\n",
       "       [115.30300766],\n",
       "       [109.04564042],\n",
       "       [122.97054083],\n",
       "       [140.05993029],\n",
       "       [163.35242016],\n",
       "       [192.57097742],\n",
       "       [200.16122024],\n",
       "       [234.9522667 ],\n",
       "       [268.21197489],\n",
       "       [275.23314518],\n",
       "       [304.41195909],\n",
       "       [299.90519328],\n",
       "       [303.14896473],\n",
       "       [302.55515133],\n",
       "       [298.08520349],\n",
       "       [272.75041101],\n",
       "       [257.86038955],\n",
       "       [226.8018213 ],\n",
       "       [214.53187459],\n",
       "       [179.05777623],\n",
       "       [169.92584512],\n",
       "       [140.80473641],\n",
       "       [126.40551251],\n",
       "       [117.23063689],\n",
       "       [111.20017814],\n",
       "       [112.27017719],\n",
       "       [127.55793341],\n",
       "       [148.21875709],\n",
       "       [167.69355815],\n",
       "       [180.83095774],\n",
       "       [215.26177318],\n",
       "       [235.43782434],\n",
       "       [265.18364244],\n",
       "       [274.08998871],\n",
       "       [291.07439146],\n",
       "       [315.36288441],\n",
       "       [319.94031118],\n",
       "       [306.02497236],\n",
       "       [295.78102827],\n",
       "       [275.79479393],\n",
       "       [253.97922553],\n",
       "       [227.45819903],\n",
       "       [201.51092747],\n",
       "       [183.85141694],\n",
       "       [162.91517285],\n",
       "       [148.75837657],\n",
       "       [121.41256449],\n",
       "       [106.78356232],\n",
       "       [101.80939776],\n",
       "       [121.24601221],\n",
       "       [121.25063753],\n",
       "       [131.16941206],\n",
       "       [150.05859365],\n",
       "       [179.5736354 ],\n",
       "       [212.97296645],\n",
       "       [236.10010245],\n",
       "       [257.81615517],\n",
       "       [286.63788923],\n",
       "       [292.15099681],\n",
       "       [300.61138268],\n",
       "       [318.31825141],\n",
       "       [315.89457357],\n",
       "       [304.54245789],\n",
       "       [281.56395421],\n",
       "       [265.51291011],\n",
       "       [242.30656152],\n",
       "       [205.29117585],\n",
       "       [184.59147039],\n",
       "       [158.11560731],\n",
       "       [136.86053164],\n",
       "       [125.32593328],\n",
       "       [103.98292648],\n",
       "       [116.67289764],\n",
       "       [112.06338948],\n",
       "       [127.56525832],\n",
       "       [132.71944534],\n",
       "       [154.7022597 ],\n",
       "       [180.77870249],\n",
       "       [215.15451963],\n",
       "       [238.68156242],\n",
       "       [269.2782519 ],\n",
       "       [285.68746382],\n",
       "       [290.39410342],\n",
       "       [310.67168836],\n",
       "       [308.5479319 ],\n",
       "       [301.75728008],\n",
       "       [293.72839562],\n",
       "       [278.44420654],\n",
       "       [253.88957884],\n",
       "       [243.2348436 ],\n",
       "       [202.65585631],\n",
       "       [193.67659614],\n",
       "       [167.025903  ],\n",
       "       [143.24448059],\n",
       "       [116.98656391],\n",
       "       [107.58951191],\n",
       "       [103.44515634],\n",
       "       [107.0136802 ],\n",
       "       [124.2059681 ],\n",
       "       [133.04216063],\n",
       "       [160.71863969],\n",
       "       [186.82789546]])"
      ]
     },
     "execution_count": 62,
     "metadata": {},
     "output_type": "execute_result"
    }
   ],
   "source": [
    "pred_array = df[['y']].to_numpy()\n",
    "pred_array"
   ]
  },
  {
   "cell_type": "code",
   "execution_count": 63,
   "metadata": {},
   "outputs": [
    {
     "name": "stdout",
     "output_type": "stream",
     "text": [
      "Generating permutations of kernel matrix..\n"
     ]
    },
    {
     "name": "stderr",
     "output_type": "stream",
     "text": [
      "100%|██████████| 1000/1000 [00:00<00:00, 5888.58it/s]\n",
      "Computing thresholds: 100%|██████████| 24/24 [00:34<00:00,  1.42s/it]\n"
     ]
    }
   ],
   "source": [
    "ert = 150\n",
    "window_sizes = 24\n",
    "cd = MMDDriftOnline(pred_array, ert, window_sizes, backend='tensorflow')"
   ]
  },
  {
   "cell_type": "code",
   "execution_count": 64,
   "metadata": {},
   "outputs": [],
   "source": [
    "drifts = []\n",
    "thresh = []\n",
    "stats = []\n",
    "# test_array = test_df[['y']].to_numpy()\n",
    "for i in range(24*7):\n",
    "    preds = cd.predict(pred_array[i], return_test_stat=True)\n",
    "    data = preds[\"data\"]\n",
    "    drifts.append(data['is_drift'])\n",
    "    thresh.append(data['threshold'])\n",
    "    stats.append(data['test_stat'])"
   ]
  },
  {
   "cell_type": "code",
   "execution_count": 65,
   "metadata": {},
   "outputs": [
    {
     "data": {
      "image/png": "[encoded data removed]",
      "text/plain": [
       "<Figure size 432x288 with 1 Axes>"
      ]
     },
     "metadata": {
      "needs_background": "light"
     },
     "output_type": "display_data"
    }
   ],
   "source": [
    "df['is_drift'] = drifts\n",
    "df['colour'] = df['is_drift'].apply(lambda x: \"k\" if x==0 else \"r\")\n",
    "df['threshold'] = thresh\n",
    "df['stat'] = stats\n",
    "\n",
    "plt.plot(df.ds, df.y, alpha=0.5, c='k')\n",
    "plt.scatter(df.ds, df.y, c=df.colour, label=df.colour)\n",
    "plt.show()"
   ]
  },
  {
   "cell_type": "markdown",
   "metadata": {},
   "source": [
    "# Trend drift"
   ]
  },
  {
   "cell_type": "code",
   "execution_count": 66,
   "metadata": {},
   "outputs": [
    {
     "data": {
      "text/html": [
       "<div>\n",
       "<style scoped>\n",
       "    .dataframe tbody tr th:only-of-type {\n",
       "        vertical-align: middle;\n",
       "    }\n",
       "\n",
       "    .dataframe tbody tr th {\n",
       "        vertical-align: top;\n",
       "    }\n",
       "\n",
       "    .dataframe thead th {\n",
       "        text-align: right;\n",
       "    }\n",
       "</style>\n",
       "<table border=\"1\" class=\"dataframe\">\n",
       "  <thead>\n",
       "    <tr style=\"text-align: right;\">\n",
       "      <th></th>\n",
       "      <th>x</th>\n",
       "      <th>ds</th>\n",
       "      <th>y</th>\n",
       "    </tr>\n",
       "  </thead>\n",
       "  <tbody>\n",
       "    <tr>\n",
       "      <th>0</th>\n",
       "      <td>0</td>\n",
       "      <td>2022-06-23 14:45:31.511412</td>\n",
       "      <td>212.124592</td>\n",
       "    </tr>\n",
       "    <tr>\n",
       "      <th>1</th>\n",
       "      <td>1</td>\n",
       "      <td>2022-06-23 15:45:31.511412</td>\n",
       "      <td>229.548671</td>\n",
       "    </tr>\n",
       "    <tr>\n",
       "      <th>2</th>\n",
       "      <td>2</td>\n",
       "      <td>2022-06-23 16:45:31.511412</td>\n",
       "      <td>252.384328</td>\n",
       "    </tr>\n",
       "    <tr>\n",
       "      <th>3</th>\n",
       "      <td>3</td>\n",
       "      <td>2022-06-23 17:45:31.511412</td>\n",
       "      <td>278.713937</td>\n",
       "    </tr>\n",
       "    <tr>\n",
       "      <th>4</th>\n",
       "      <td>4</td>\n",
       "      <td>2022-06-23 18:45:31.511412</td>\n",
       "      <td>293.747521</td>\n",
       "    </tr>\n",
       "  </tbody>\n",
       "</table>\n",
       "</div>"
      ],
      "text/plain": [
       "   x                         ds           y\n",
       "0  0 2022-06-23 14:45:31.511412  212.124592\n",
       "1  1 2022-06-23 15:45:31.511412  229.548671\n",
       "2  2 2022-06-23 16:45:31.511412  252.384328\n",
       "3  3 2022-06-23 17:45:31.511412  278.713937\n",
       "4  4 2022-06-23 18:45:31.511412  293.747521"
      ]
     },
     "execution_count": 66,
     "metadata": {},
     "output_type": "execute_result"
    }
   ],
   "source": [
    "N = 100\n",
    "\n",
    "test_df = pd.DataFrame(data={\n",
    "    'x': range(N),\n",
    "    'ds': pd.date_range(start=\"now\", periods=N, freq='1h'),\n",
    "    'y': [generator.generate_step(t=t, period=24, amplitude=100, error=20, mean=200) for t in range(N)] + np.linspace(start=0, stop=100, num=N)\n",
    "})\n",
    "test_df.head()"
   ]
  },
  {
   "cell_type": "code",
   "execution_count": 67,
   "metadata": {},
   "outputs": [],
   "source": [
    "drifts = []\n",
    "thresh = []\n",
    "stats = []\n",
    "\n",
    "pred_array = test_df[['y']].to_numpy()\n",
    "\n",
    "for i in range(N):\n",
    "    preds = cd.predict(pred_array[i], return_test_stat=True)\n",
    "    data = preds[\"data\"]\n",
    "    drifts.append(data['is_drift'])\n",
    "    thresh.append(data['threshold'])\n",
    "    stats.append(data['test_stat'])"
   ]
  },
  {
   "cell_type": "code",
   "execution_count": 68,
   "metadata": {},
   "outputs": [
    {
     "data": {
      "image/png": "[encoded data removed]",
      "text/plain": [
       "<Figure size 432x288 with 1 Axes>"
      ]
     },
     "metadata": {
      "needs_background": "light"
     },
     "output_type": "display_data"
    }
   ],
   "source": [
    "test_df['is_drift'] = drifts\n",
    "test_df['colour'] = test_df['is_drift'].apply(lambda x: \"k\" if x==0 else \"r\")\n",
    "test_df['threshold'] = thresh\n",
    "test_df['stat'] = stats\n",
    "\n",
    "plt.plot(test_df.ds, test_df.y, alpha=0.5, c='k')\n",
    "plt.scatter(test_df.ds, test_df.y, c=test_df.colour, label=test_df.colour)\n",
    "plt.show()"
   ]
  },
  {
   "cell_type": "markdown",
   "metadata": {},
   "source": [
    "# Saving"
   ]
  },
  {
   "cell_type": "code",
   "execution_count": null,
   "metadata": {},
   "outputs": [],
   "source": [
    "from alibi_detect.utils.saving import save_detector\n",
    "\n",
    "save_detector(detector=od, filepath=\"./model\")"
   ]
  }
 ],
 "metadata": {
  "kernelspec": {
   "display_name": "Python 3.8.13 ('rhose-experiments')",
   "language": "python",
   "name": "python3"
  },
  "language_info": {
   "codemirror_mode": {
    "name": "ipython",
    "version": 3
   },
   "file_extension": ".py",
   "mimetype": "text/x-python",
   "name": "python",
   "nbconvert_exporter": "python",
   "pygments_lexer": "ipython3",
   "version": "3.8.13"
  },
  "orig_nbformat": 4,
  "vscode": {
   "interpreter": {
    "hash": "273acd6561fc57967bc0420cd7e789108cd80439b670dfd32c5ffa0e32fa7ee2"
   }
  }
 },
 "nbformat": 4,
 "nbformat_minor": 2
}
